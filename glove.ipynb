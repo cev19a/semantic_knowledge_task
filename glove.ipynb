{
 "cells": [
  {
   "cell_type": "code",
   "execution_count": 1,
   "metadata": {},
   "outputs": [],
   "source": [
    "from scipy.spatial.distance import pdist, squareform\n",
    "import pandas as pd\n"
   ]
  },
  {
   "cell_type": "code",
   "execution_count": 2,
   "metadata": {},
   "outputs": [
    {
     "name": "stderr",
     "output_type": "stream",
     "text": [
      "<ipython-input-2-61fcfb8f19d6>:1: ParserWarning: Falling back to the 'python' engine because the 'c' engine does not support regex separators (separators > 1 char and different from '\\s+' are interpreted as regex); you can avoid this warning by specifying engine='python'.\n",
      "  glove = pd.read_csv('data/glove.6B.50d.txt', sep=\"\\ \", header=None)\n"
     ]
    }
   ],
   "source": [
    "glove = pd.read_csv('data/glove.6B.50d.txt', sep=\"\\ \", header=None)\n",
    "elp = pd.read_csv('data/elp_clean.csv')\n",
    "targets = pd.read_csv('data/targets.csv', header=None)[0].tolist()\n",
    "elp = [word.lower() for word in elp['word'].tolist() if isinstance(word, str)]\n",
    "glove = glove[glove[0].isin(elp)]\n"
   ]
  },
  {
   "cell_type": "code",
   "execution_count": 3,
   "metadata": {},
   "outputs": [],
   "source": [
    "vectors = glove.iloc[:, 1:51]\n",
    "\n",
    "# Convert the selected columns to a NumPy array\n",
    "GloVe = vectors.values"
   ]
  },
  {
   "cell_type": "markdown",
   "metadata": {},
   "source": [
    "Come back to this. There are 6 fewer elements than expected when getting the indices."
   ]
  },
  {
   "cell_type": "code",
   "execution_count": 4,
   "metadata": {},
   "outputs": [],
   "source": [
    "target_indices = [i for i, e in enumerate(glove[0].tolist()) if e in targets]"
   ]
  },
  {
   "cell_type": "code",
   "execution_count": 5,
   "metadata": {},
   "outputs": [],
   "source": [
    "dists = pdist(GloVe, metric='euclidean')"
   ]
  },
  {
   "cell_type": "code",
   "execution_count": 6,
   "metadata": {},
   "outputs": [],
   "source": [
    "dists_square = squareform(dists)"
   ]
  },
  {
   "cell_type": "code",
   "execution_count": 7,
   "metadata": {},
   "outputs": [],
   "source": [
    "dists_targets = dists_square[target_indices, :]"
   ]
  },
  {
   "cell_type": "code",
   "execution_count": 8,
   "metadata": {},
   "outputs": [
    {
     "data": {
      "text/plain": [
       "60"
      ]
     },
     "execution_count": 8,
     "metadata": {},
     "output_type": "execute_result"
    }
   ],
   "source": []
  },
  {
   "cell_type": "code",
   "execution_count": 9,
   "metadata": {},
   "outputs": [],
   "source": [
    "df = pd.DataFrame(dists_targets, columns=glove[0].str.upper().tolist(), index=[e.upper() for e in glove[0].tolist() if e in targets])"
   ]
  },
  {
   "cell_type": "code",
   "execution_count": 10,
   "metadata": {},
   "outputs": [
    {
     "data": {
      "text/html": [
       "<div>\n",
       "<style scoped>\n",
       "    .dataframe tbody tr th:only-of-type {\n",
       "        vertical-align: middle;\n",
       "    }\n",
       "\n",
       "    .dataframe tbody tr th {\n",
       "        vertical-align: top;\n",
       "    }\n",
       "\n",
       "    .dataframe thead th {\n",
       "        text-align: right;\n",
       "    }\n",
       "</style>\n",
       "<table border=\"1\" class=\"dataframe\">\n",
       "  <thead>\n",
       "    <tr style=\"text-align: right;\">\n",
       "      <th></th>\n",
       "      <th>THE</th>\n",
       "      <th>OF</th>\n",
       "      <th>TO</th>\n",
       "      <th>AND</th>\n",
       "      <th>IN</th>\n",
       "      <th>A</th>\n",
       "      <th>FOR</th>\n",
       "      <th>THAT</th>\n",
       "      <th>ON</th>\n",
       "      <th>IS</th>\n",
       "      <th>...</th>\n",
       "      <th>UNMATED</th>\n",
       "      <th>COMMUNICATIONAL</th>\n",
       "      <th>LUXURIANCE</th>\n",
       "      <th>JURISPRUDENT</th>\n",
       "      <th>FOURPENCE</th>\n",
       "      <th>CLODHOPPERS</th>\n",
       "      <th>PIGGYBANK</th>\n",
       "      <th>COUTH</th>\n",
       "      <th>SONGFUL</th>\n",
       "      <th>OVEREXPOSE</th>\n",
       "    </tr>\n",
       "  </thead>\n",
       "  <tbody>\n",
       "    <tr>\n",
       "      <th>NEIGHBORHOOD</th>\n",
       "      <td>5.537188</td>\n",
       "      <td>5.454186</td>\n",
       "      <td>5.778937</td>\n",
       "      <td>5.372251</td>\n",
       "      <td>5.075385</td>\n",
       "      <td>5.538414</td>\n",
       "      <td>5.809763</td>\n",
       "      <td>6.027148</td>\n",
       "      <td>5.539150</td>\n",
       "      <td>5.366524</td>\n",
       "      <td>...</td>\n",
       "      <td>7.353847</td>\n",
       "      <td>7.006583</td>\n",
       "      <td>6.966288</td>\n",
       "      <td>7.322810</td>\n",
       "      <td>7.320214</td>\n",
       "      <td>6.918226</td>\n",
       "      <td>6.816828</td>\n",
       "      <td>7.038348</td>\n",
       "      <td>6.978406</td>\n",
       "      <td>7.163707</td>\n",
       "    </tr>\n",
       "    <tr>\n",
       "      <th>MEDIEVAL</th>\n",
       "      <td>5.331460</td>\n",
       "      <td>5.220818</td>\n",
       "      <td>6.438482</td>\n",
       "      <td>5.733350</td>\n",
       "      <td>5.512200</td>\n",
       "      <td>6.233296</td>\n",
       "      <td>6.393500</td>\n",
       "      <td>6.442787</td>\n",
       "      <td>6.262085</td>\n",
       "      <td>5.854942</td>\n",
       "      <td>...</td>\n",
       "      <td>8.132338</td>\n",
       "      <td>6.881811</td>\n",
       "      <td>6.867602</td>\n",
       "      <td>6.753911</td>\n",
       "      <td>7.456687</td>\n",
       "      <td>6.925665</td>\n",
       "      <td>7.063557</td>\n",
       "      <td>7.691057</td>\n",
       "      <td>6.986361</td>\n",
       "      <td>7.423767</td>\n",
       "    </tr>\n",
       "    <tr>\n",
       "      <th>PHENOMENON</th>\n",
       "      <td>4.796361</td>\n",
       "      <td>4.569453</td>\n",
       "      <td>5.309451</td>\n",
       "      <td>4.896222</td>\n",
       "      <td>4.934736</td>\n",
       "      <td>5.102699</td>\n",
       "      <td>5.130629</td>\n",
       "      <td>4.473644</td>\n",
       "      <td>5.215102</td>\n",
       "      <td>4.214932</td>\n",
       "      <td>...</td>\n",
       "      <td>6.422862</td>\n",
       "      <td>6.053071</td>\n",
       "      <td>5.775753</td>\n",
       "      <td>6.138313</td>\n",
       "      <td>6.305156</td>\n",
       "      <td>6.051639</td>\n",
       "      <td>6.041706</td>\n",
       "      <td>6.285155</td>\n",
       "      <td>5.506292</td>\n",
       "      <td>6.303910</td>\n",
       "    </tr>\n",
       "    <tr>\n",
       "      <th>ENTHUSIASM</th>\n",
       "      <td>5.465676</td>\n",
       "      <td>5.284240</td>\n",
       "      <td>5.183630</td>\n",
       "      <td>5.086532</td>\n",
       "      <td>5.584098</td>\n",
       "      <td>5.635369</td>\n",
       "      <td>5.157272</td>\n",
       "      <td>5.057393</td>\n",
       "      <td>5.477061</td>\n",
       "      <td>5.579421</td>\n",
       "      <td>...</td>\n",
       "      <td>6.416567</td>\n",
       "      <td>6.083912</td>\n",
       "      <td>5.709696</td>\n",
       "      <td>6.382689</td>\n",
       "      <td>5.997288</td>\n",
       "      <td>6.287816</td>\n",
       "      <td>5.792473</td>\n",
       "      <td>6.175050</td>\n",
       "      <td>5.931410</td>\n",
       "      <td>5.920060</td>\n",
       "    </tr>\n",
       "    <tr>\n",
       "      <th>DIABETES</th>\n",
       "      <td>6.845480</td>\n",
       "      <td>6.200959</td>\n",
       "      <td>6.550181</td>\n",
       "      <td>6.154016</td>\n",
       "      <td>6.421822</td>\n",
       "      <td>6.878750</td>\n",
       "      <td>6.239333</td>\n",
       "      <td>6.353124</td>\n",
       "      <td>7.045446</td>\n",
       "      <td>6.278766</td>\n",
       "      <td>...</td>\n",
       "      <td>7.180583</td>\n",
       "      <td>6.923108</td>\n",
       "      <td>7.216983</td>\n",
       "      <td>6.842287</td>\n",
       "      <td>7.308373</td>\n",
       "      <td>6.596407</td>\n",
       "      <td>7.424602</td>\n",
       "      <td>6.926755</td>\n",
       "      <td>6.760757</td>\n",
       "      <td>7.418164</td>\n",
       "    </tr>\n",
       "  </tbody>\n",
       "</table>\n",
       "<p>5 rows × 37889 columns</p>\n",
       "</div>"
      ],
      "text/plain": [
       "                   THE        OF        TO       AND        IN         A  \\\n",
       "NEIGHBORHOOD  5.537188  5.454186  5.778937  5.372251  5.075385  5.538414   \n",
       "MEDIEVAL      5.331460  5.220818  6.438482  5.733350  5.512200  6.233296   \n",
       "PHENOMENON    4.796361  4.569453  5.309451  4.896222  4.934736  5.102699   \n",
       "ENTHUSIASM    5.465676  5.284240  5.183630  5.086532  5.584098  5.635369   \n",
       "DIABETES      6.845480  6.200959  6.550181  6.154016  6.421822  6.878750   \n",
       "\n",
       "                   FOR      THAT        ON        IS  ...   UNMATED  \\\n",
       "NEIGHBORHOOD  5.809763  6.027148  5.539150  5.366524  ...  7.353847   \n",
       "MEDIEVAL      6.393500  6.442787  6.262085  5.854942  ...  8.132338   \n",
       "PHENOMENON    5.130629  4.473644  5.215102  4.214932  ...  6.422862   \n",
       "ENTHUSIASM    5.157272  5.057393  5.477061  5.579421  ...  6.416567   \n",
       "DIABETES      6.239333  6.353124  7.045446  6.278766  ...  7.180583   \n",
       "\n",
       "              COMMUNICATIONAL  LUXURIANCE  JURISPRUDENT  FOURPENCE  \\\n",
       "NEIGHBORHOOD         7.006583    6.966288      7.322810   7.320214   \n",
       "MEDIEVAL             6.881811    6.867602      6.753911   7.456687   \n",
       "PHENOMENON           6.053071    5.775753      6.138313   6.305156   \n",
       "ENTHUSIASM           6.083912    5.709696      6.382689   5.997288   \n",
       "DIABETES             6.923108    7.216983      6.842287   7.308373   \n",
       "\n",
       "              CLODHOPPERS  PIGGYBANK     COUTH   SONGFUL  OVEREXPOSE  \n",
       "NEIGHBORHOOD     6.918226   6.816828  7.038348  6.978406    7.163707  \n",
       "MEDIEVAL         6.925665   7.063557  7.691057  6.986361    7.423767  \n",
       "PHENOMENON       6.051639   6.041706  6.285155  5.506292    6.303910  \n",
       "ENTHUSIASM       6.287816   5.792473  6.175050  5.931410    5.920060  \n",
       "DIABETES         6.596407   7.424602  6.926755  6.760757    7.418164  \n",
       "\n",
       "[5 rows x 37889 columns]"
      ]
     },
     "execution_count": 10,
     "metadata": {},
     "output_type": "execute_result"
    }
   ],
   "source": [
    "df.head()"
   ]
  },
  {
   "cell_type": "code",
   "execution_count": 16,
   "metadata": {},
   "outputs": [],
   "source": [
    "distances = df.reset_index().melt(id_vars='index', var_name='Pair', value_name='Distance')"
   ]
  },
  {
   "cell_type": "code",
   "execution_count": 17,
   "metadata": {},
   "outputs": [],
   "source": [
    "distances.columns = ['target', 'pair', 'distance']"
   ]
  },
  {
   "cell_type": "code",
   "execution_count": 18,
   "metadata": {},
   "outputs": [
    {
     "data": {
      "text/html": [
       "<div>\n",
       "<style scoped>\n",
       "    .dataframe tbody tr th:only-of-type {\n",
       "        vertical-align: middle;\n",
       "    }\n",
       "\n",
       "    .dataframe tbody tr th {\n",
       "        vertical-align: top;\n",
       "    }\n",
       "\n",
       "    .dataframe thead th {\n",
       "        text-align: right;\n",
       "    }\n",
       "</style>\n",
       "<table border=\"1\" class=\"dataframe\">\n",
       "  <thead>\n",
       "    <tr style=\"text-align: right;\">\n",
       "      <th></th>\n",
       "      <th>target</th>\n",
       "      <th>pair</th>\n",
       "      <th>distance</th>\n",
       "    </tr>\n",
       "  </thead>\n",
       "  <tbody>\n",
       "    <tr>\n",
       "      <th>0</th>\n",
       "      <td>NEIGHBORHOOD</td>\n",
       "      <td>THE</td>\n",
       "      <td>5.537188</td>\n",
       "    </tr>\n",
       "    <tr>\n",
       "      <th>1</th>\n",
       "      <td>MEDIEVAL</td>\n",
       "      <td>THE</td>\n",
       "      <td>5.331460</td>\n",
       "    </tr>\n",
       "    <tr>\n",
       "      <th>2</th>\n",
       "      <td>PHENOMENON</td>\n",
       "      <td>THE</td>\n",
       "      <td>4.796361</td>\n",
       "    </tr>\n",
       "    <tr>\n",
       "      <th>3</th>\n",
       "      <td>ENTHUSIASM</td>\n",
       "      <td>THE</td>\n",
       "      <td>5.465676</td>\n",
       "    </tr>\n",
       "    <tr>\n",
       "      <th>4</th>\n",
       "      <td>DIABETES</td>\n",
       "      <td>THE</td>\n",
       "      <td>6.845480</td>\n",
       "    </tr>\n",
       "  </tbody>\n",
       "</table>\n",
       "</div>"
      ],
      "text/plain": [
       "         target pair  distance\n",
       "0  NEIGHBORHOOD  THE  5.537188\n",
       "1      MEDIEVAL  THE  5.331460\n",
       "2    PHENOMENON  THE  4.796361\n",
       "3    ENTHUSIASM  THE  5.465676\n",
       "4      DIABETES  THE  6.845480"
      ]
     },
     "execution_count": 18,
     "metadata": {},
     "output_type": "execute_result"
    }
   ],
   "source": [
    "distances.head()"
   ]
  },
  {
   "cell_type": "code",
   "execution_count": 23,
   "metadata": {},
   "outputs": [],
   "source": [
    "distances.to_csv('data/semantic_distances_among_targets_v2.csv', index = False)"
   ]
  },
  {
   "cell_type": "code",
   "execution_count": null,
   "metadata": {},
   "outputs": [],
   "source": []
  }
 ],
 "metadata": {
  "kernelspec": {
   "display_name": "p39",
   "language": "python",
   "name": "python3"
  },
  "language_info": {
   "codemirror_mode": {
    "name": "ipython",
    "version": 3
   },
   "file_extension": ".py",
   "mimetype": "text/x-python",
   "name": "python",
   "nbconvert_exporter": "python",
   "pygments_lexer": "ipython3",
   "version": "3.9.18"
  },
  "orig_nbformat": 4
 },
 "nbformat": 4,
 "nbformat_minor": 2
}
